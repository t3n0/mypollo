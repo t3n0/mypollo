{
 "cells": [
  {
   "cell_type": "code",
   "execution_count": 1,
   "metadata": {},
   "outputs": [
    {
     "name": "stdout",
     "output_type": "stream",
     "text": [
      "Available matplotlib backends: ['tk', 'gtk', 'gtk3', 'wx', 'qt4', 'qt5', 'qt', 'osx', 'nbagg', 'notebook', 'agg', 'svg', 'pdf', 'ps', 'inline', 'ipympl', 'widget']\n"
     ]
    }
   ],
   "source": [
    "import numpy as np\n",
    "import matplotlib.pyplot as plt\n",
    "%matplotlib --list"
   ]
  },
  {
   "cell_type": "code",
   "execution_count": 2,
   "metadata": {},
   "outputs": [],
   "source": [
    "%matplotlib qt"
   ]
  },
  {
   "cell_type": "code",
   "execution_count": 3,
   "metadata": {},
   "outputs": [],
   "source": [
    "# domain\n",
    "xmin, xmax, xsize = 0.3, 5.4, 81\n",
    "ymin, ymax, ysize = -3.5, 7.3, 123\n",
    "xgrid, dx = np.linspace(xmin, xmax, xsize, retstep=True)\n",
    "ygrid, dy = np.linspace(ymin, ymax, ysize, retstep=True)\n",
    "bins = np.zeros((xsize-1,ysize-1))"
   ]
  },
  {
   "cell_type": "code",
   "execution_count": 4,
   "metadata": {},
   "outputs": [
    {
     "name": "stdout",
     "output_type": "stream",
     "text": [
      "0.9 5.4 4.8 -1.2\n",
      "[  9 100] [70 25]\n"
     ]
    }
   ],
   "source": [
    "# line goes from r0 to r1\n",
    "r0x, r0y = 0.9, 5.4\n",
    "r1x, r1y = 4.8, -1.2\n",
    "r0 = np.array([int((r0x-xmin)/dx), int((r0y-ymin)/dy)])\n",
    "r1 = np.array([int((r1x-xmin)/dx), int((r1y-ymin)/dy)])\n",
    "print(r0x, r0y, r1x, r1y)\n",
    "print(r0, r1)"
   ]
  },
  {
   "cell_type": "code",
   "execution_count": 5,
   "metadata": {},
   "outputs": [
    {
     "name": "stdout",
     "output_type": "stream",
     "text": [
      "62 76 136\n"
     ]
    }
   ],
   "source": [
    "# pixels\n",
    "N = abs(r1[0]-r0[0]) + 1\n",
    "M = abs(r1[1]-r0[1]) + 1\n",
    "C = N + M - np.gcd(N,M)\n",
    "print(N, M, C)\n",
    "xsteps = np.rint(np.linspace(r0[0],r1[0],C)).astype(int)\n",
    "ysteps = np.rint(np.linspace(r0[1],r1[1],C)).astype(int)\n",
    "line = [(i,j) for i,j in zip(xsteps, ysteps)]"
   ]
  },
  {
   "cell_type": "code",
   "execution_count": 6,
   "metadata": {},
   "outputs": [],
   "source": [
    "# visualization\n",
    "for idx in line:\n",
    "    bins[idx] = 1\n",
    "plt.imshow(bins.T, cmap='coolwarm', origin='lower' ,extent=[xmin, xmax, ymin, ymax])\n",
    "plt.axis('equal')\n",
    "plt.plot([r0x, r1x], [r0y, r1y])\n",
    "plt.show()"
   ]
  },
  {
   "cell_type": "code",
   "execution_count": null,
   "metadata": {},
   "outputs": [],
   "source": []
  }
 ],
 "metadata": {
  "kernelspec": {
   "display_name": "Python 3",
   "language": "python",
   "name": "python3"
  },
  "language_info": {
   "codemirror_mode": {
    "name": "ipython",
    "version": 3
   },
   "file_extension": ".py",
   "mimetype": "text/x-python",
   "name": "python",
   "nbconvert_exporter": "python",
   "pygments_lexer": "ipython3",
   "version": "3.8.3"
  }
 },
 "nbformat": 4,
 "nbformat_minor": 4
}
