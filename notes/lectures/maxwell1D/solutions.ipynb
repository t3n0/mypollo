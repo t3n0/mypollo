{
 "cells": [
  {
   "cell_type": "markdown",
   "metadata": {},
   "source": [
    "# Exercise 1 solution"
   ]
  },
  {
   "cell_type": "code",
   "execution_count": null,
   "metadata": {},
   "outputs": [],
   "source": [
    "import numpy as np\n",
    "import matplotlib.pyplot as plt\n",
    "from matplotlib import animation, rc\n",
    "rc('animation', html='jshtml')\n",
    "rc('animation', embed_limit= 2**128)"
   ]
  },
  {
   "cell_type": "code",
   "execution_count": null,
   "metadata": {},
   "outputs": [],
   "source": [
    "N = 41\n",
    "time_frames = 100\n",
    "space_grid = np.arange(N)\n",
    "E = np.zeros(N)\n",
    "H = np.zeros(N)\n",
    "\n",
    "# # spike initial conditions\n",
    "# E[N//2] = 1.\n",
    "\n",
    "# # gauss initial conditions\n",
    "# sigma = 4.\n",
    "# mean = N//3\n",
    "# E = np.exp(-0.5/sigma**2*(space_grid-mean)**2)\n",
    "\n",
    "# # wavepacket initial condition\n",
    "# sigma = 4.\n",
    "# mean = N//2\n",
    "# E = np.sin(space_grid)*np.exp(-0.5/sigma**2*(space_grid-mean)**2)\n",
    "\n",
    "# whatever initial condition\n",
    "sigma = 4.\n",
    "mean = N//2\n",
    "E = (2*np.random.random(N)-1)*np.exp(-0.5/sigma**2*(space_grid-mean)**2)\n",
    "H = (2*np.random.random(N)-1)*np.exp(-0.5/sigma**2*(space_grid-mean)**2)"
   ]
  },
  {
   "cell_type": "code",
   "execution_count": null,
   "metadata": {},
   "outputs": [],
   "source": [
    "fig, (ax1, ax2) = plt.subplots(2)\n",
    "\n",
    "fig.suptitle('Maxwell integration')\n",
    "ax1.set_xlim((0, N-1))\n",
    "ax1.set_ylim((-1.1, 1.1))\n",
    "ax1.set_ylabel('E')\n",
    "ax1.set_xticks([])\n",
    "ax2.set_xlim((0, N-1))\n",
    "ax2.set_ylim((-1.1, 1.1))\n",
    "ax2.set_ylabel('H')\n",
    "ax2.set_xlabel('z')\n",
    "\n",
    "txt = ax1.text(0.1,1.2, \"Step: 1337\")\n",
    "\n",
    "\n",
    "lineE, = ax1.plot(space_grid, E, lw=2)\n",
    "lineH, = ax2.plot(space_grid, H, lw=2)"
   ]
  },
  {
   "cell_type": "code",
   "execution_count": null,
   "metadata": {},
   "outputs": [],
   "source": [
    "def animate(time_step):        \n",
    "    # update E\n",
    "    E[:-1] = E[:-1] + 0.5 * (H[1:] - H[:-1])\n",
    "    #HBC = 0.0  # metallic boundaries\n",
    "    HBC = H[0] # periodic boundaries\n",
    "    E[-1] = E[-1] + 0.5 * (HBC - H[-1])\n",
    "\n",
    "    # update H\n",
    "    H[1:] = H[1:] + 0.5 * (E[1:] - E[:-1])\n",
    "    #EBC = 0.0  # metallic boundaries\n",
    "    EBC = E[-1] # periodic boundaries\n",
    "    H[0] = H[0] + 0.5 * (E[0] - EBC)\n",
    "    \n",
    "    # draw the new lines and text\n",
    "    lineE.set_data(space_grid, E)\n",
    "    lineH.set_data(space_grid, H)\n",
    "    txt.set_text(\"Step: {}\".format(time_step))\n",
    "    return lineE, lineH"
   ]
  },
  {
   "cell_type": "code",
   "execution_count": null,
   "metadata": {},
   "outputs": [],
   "source": [
    "maxwell1 = animation.FuncAnimation(fig, animate, frames=time_frames, interval=20, blit=True)\n",
    "maxwell1"
   ]
  },
  {
   "cell_type": "markdown",
   "metadata": {},
   "source": [
    "# Exercise 2 solution"
   ]
  },
  {
   "cell_type": "code",
   "execution_count": null,
   "metadata": {},
   "outputs": [],
   "source": [
    "N = 41\n",
    "time_frames = 100\n",
    "space_grid = np.arange(N)\n",
    "E = np.zeros(N)\n",
    "H = np.zeros(N)\n",
    "\n",
    "# gauss initial conditions\n",
    "sigma = 2.\n",
    "mean = N//2\n",
    "E = np.exp(-0.5/sigma**2*(space_grid-mean)**2)\n",
    "\n",
    "H1 = H2 = 0.0\n",
    "E1 = E2 = 0.0\n",
    "\n",
    "def animate(time_step):\n",
    "    global H1, H2, E1, E2 # sneaky python! we must specify global variables\n",
    "                          # otherwise we cannot reassign them\n",
    "    # update E\n",
    "    E[:-1] = E[:-1] + 0.5 * (H[1:] - H[:-1])    \n",
    "    E[-1] = E[-1] + 0.5 * (H2 - H[-1])\n",
    "    H2 = H1\n",
    "    H1 = H[-1]\n",
    "    \n",
    "    # update H\n",
    "    H[1:] = H[1:] + 0.5 * (E[1:] - E[:-1])\n",
    "    H[0] = H[0] + 0.5 * (E[0] - E2)\n",
    "    E2 = E1\n",
    "    E1 = E[0]\n",
    "    \n",
    "    # draw the new lines and text\n",
    "    lineE.set_data(space_grid, E)\n",
    "    lineH.set_data(space_grid, H)\n",
    "    txt.set_text(\"Step: {}\".format(time_step))\n",
    "    return lineE, lineH"
   ]
  },
  {
   "cell_type": "code",
   "execution_count": null,
   "metadata": {
    "scrolled": false
   },
   "outputs": [],
   "source": [
    "maxwell2 = animation.FuncAnimation(fig, animate, frames=time_frames, interval=20, blit=True)\n",
    "maxwell2"
   ]
  },
  {
   "cell_type": "markdown",
   "metadata": {},
   "source": [
    "# Exercise 3 solution\n"
   ]
  },
  {
   "cell_type": "code",
   "execution_count": null,
   "metadata": {},
   "outputs": [],
   "source": [
    "N = 200\n",
    "time_frames = 1000\n",
    "space_grid = np.arange(N)\n",
    "E = np.zeros(N)\n",
    "H = np.zeros(N)\n",
    "eps = np.ones(N)\n",
    "mu = np.ones(N)\n",
    "\n",
    "# gauss initial conditions\n",
    "sigma = 4.\n",
    "mean = 25\n",
    "E = np.exp(-0.5/sigma**2*(space_grid-mean)**2)\n",
    "\n",
    "# auxiliary variables\n",
    "H1 = H2 = 0.0\n",
    "E1 = E2 = 0.0\n",
    "\n",
    "# material\n",
    "layer1 = 50\n",
    "layer2 = 150\n",
    "eps[layer1:layer2] = 5.0\n",
    "\n",
    "fig, (ax1, ax2) = plt.subplots(2,figsize=(10,10))\n",
    "\n",
    "fig.suptitle('Maxwell integration')\n",
    "ax1.set_xlim((0, N-1))\n",
    "ax1.set_ylim((-1.1, 1.1))\n",
    "ax1.set_ylabel('E')\n",
    "ax1.set_xticks([])\n",
    "ax2.set_xlim((0, N-1))\n",
    "ax2.set_ylim((-1.1, 1.1))\n",
    "ax2.set_ylabel('H')\n",
    "ax2.set_xlabel('z')\n",
    "\n",
    "# vertical lines at the interfaces\n",
    "ax1.axvline(layer1,ls='--',c='k')\n",
    "ax1.axvline(layer2,ls='--',c='k')\n",
    "ax2.axvline(layer1,ls='--',c='k')\n",
    "ax2.axvline(layer2,ls='--',c='k')\n",
    "\n",
    "txt = ax1.text(0.1,1.2, \"Step: 1337\")\n",
    "\n",
    "lineE, = ax1.plot(space_grid, E, lw=2)\n",
    "lineH, = ax2.plot(space_grid, H, lw=2)"
   ]
  },
  {
   "cell_type": "code",
   "execution_count": null,
   "metadata": {},
   "outputs": [],
   "source": [
    "def animate(time_step):\n",
    "    global H1, H2, E1, E2 # sneaky python! we must specify global variables\n",
    "                          # otherwise we cannot reassign them\n",
    "    # update E\n",
    "    E[:-1] = E[:-1] + 0.5 * (H[1:] - H[:-1])/eps[:-1]\n",
    "    E[-1] = E[-1] + 0.5 * (H2 - H[-1])/eps[-1]\n",
    "    H2 = H1\n",
    "    H1 = H[-1]\n",
    "    \n",
    "    # update H\n",
    "    H[1:] = H[1:] + 0.5 * (E[1:] - E[:-1])/mu[1:]\n",
    "    H[0] = H[0] + 0.5 * (E[0] - E2)/mu[0]\n",
    "    E2 = E1\n",
    "    E1 = E[0]\n",
    "    \n",
    "    # draw the new lines and text\n",
    "    lineE.set_data(space_grid, E)\n",
    "    lineH.set_data(space_grid, H)\n",
    "    txt.set_text(\"Step: {}\".format(time_step))\n",
    "    return lineE, lineH"
   ]
  },
  {
   "cell_type": "code",
   "execution_count": null,
   "metadata": {},
   "outputs": [],
   "source": [
    "maxwell3 = animation.FuncAnimation(fig, animate, frames=time_frames, interval=10, blit=True)\n",
    "maxwell3"
   ]
  },
  {
   "cell_type": "markdown",
   "metadata": {},
   "source": [
    "# Exercise 4 solution"
   ]
  },
  {
   "cell_type": "code",
   "execution_count": null,
   "metadata": {},
   "outputs": [],
   "source": [
    "# define the units and the size of the system\n",
    "cspeed = 300 # micron / ps\n",
    "freq_max = 5 # THz\n",
    "layers = np.array([500., 1000., 500.]) # micron, i.e. layer1 5 micron, layer1 10 micron, layer2 5 micron\n",
    "eps    = np.array([1., 5., 1.])       # dielectrics of each layer\n",
    "mu     = np.array([1., 1., 1.])       # susceptibility of each layer\n",
    "thicks = np.concatenate(([0.0],np.cumsum(layers))) # cumulative sum with an initial zero\n",
    "total_size = np.sum(layers)\n",
    "total_time = 15 # ps\n",
    "\n",
    "# time and space grids\n",
    "deltaz = cspeed/freq_max/np.sqrt(np.max(eps)*np.max(mu))/4. # we set deltaz 4 times smaller then lambda min\n",
    "deltat = deltaz/2./cspeed\n",
    "space_grid = np.arange(0,total_size,deltaz)\n",
    "time_grid = np.arange(0,total_time,deltat)\n",
    "N = len(space_grid)\n",
    "time_frames = len(time_grid)\n",
    "\n",
    "# E, H, epsilon and mu grids\n",
    "E = np.zeros(N)\n",
    "H = np.zeros(N)\n",
    "eps_grid = np.ones(N)\n",
    "mu_grid = np.ones(N)\n",
    "for i in range(len(layers)):\n",
    "    eps_grid[(space_grid > thicks[i]) & (space_grid < thicks[i+1])] *= eps[i]\n",
    "    mu_grid[(space_grid > thicks[i]) & (space_grid < thicks[i+1])] *= mu[i]\n",
    "\n",
    "# gauss initial conditions\n",
    "sigma = cspeed/freq_max # micron, spread of the gaussian\n",
    "mean = layers[0]/2.     # micron\n",
    "E = np.exp(-0.5/sigma**2*(space_grid-mean)**2)\n",
    "\n",
    "# print useful data\n",
    "print('total space = {:.2f} micron, total time = {:.2f} ps'.format(total_size, total_time))\n",
    "print('delta z = {:.2f} micron, delta t = {:.5f} ps'.format(deltaz, deltat))\n",
    "print('z steps = {}, frames = {}'.format(N,time_frames))\n",
    "print('freq_max = {:.2f} THz, sigma gauss = {:.2f} micron'.format(freq_max, sigma))\n",
    "\n",
    "# auxiliary variables\n",
    "H1 = H2 = 0.0\n",
    "E1 = E2 = 0.0\n",
    "\n",
    "fig, (ax1, ax2) = plt.subplots(2,figsize=(10,10))\n",
    "\n",
    "fig.suptitle('Maxwell integration')\n",
    "ax1.set_xlim((space_grid[0],space_grid[-1]))\n",
    "ax1.set_ylim((-1.1, 1.1))\n",
    "ax1.set_ylabel('E')\n",
    "ax1.set_xticks([])\n",
    "ax2.set_xlim((space_grid[0],space_grid[-1]))\n",
    "ax2.set_ylim((-1.1, 1.1))\n",
    "ax2.set_ylabel('H')\n",
    "ax2.set_xlabel('z (micron)')\n",
    "\n",
    "# vertical lines at the interfaces\n",
    "for i in range(1, len(thicks)-1):\n",
    "    ax1.axvline(thicks[i],ls='--',c='k')\n",
    "    ax2.axvline(thicks[i],ls='--',c='k')\n",
    "\n",
    "txt = ax1.text(0.1,1.2, \"Time: 0.00 ps.\")\n",
    "\n",
    "lineE, = ax1.plot(space_grid, E, lw=2)\n",
    "lineH, = ax2.plot(space_grid, H, lw=2)"
   ]
  },
  {
   "cell_type": "code",
   "execution_count": null,
   "metadata": {},
   "outputs": [],
   "source": [
    "def animate(time_step):\n",
    "    global H1, H2, E1, E2 # sneaky python! we must specify global variables\n",
    "                          # otherwise we cannot reassign them\n",
    "    # update E\n",
    "    E[:-1] = E[:-1] + 0.5 * (H[1:] - H[:-1])/eps_grid[:-1]\n",
    "    E[-1] = E[-1] + 0.5 * (H2 - H[-1])/eps_grid[-1]\n",
    "    H2 = H1\n",
    "    H1 = H[-1]\n",
    "    \n",
    "    # update H\n",
    "    H[1:] = H[1:] + 0.5 * (E[1:] - E[:-1])/mu_grid[1:]\n",
    "    H[0] = H[0] + 0.5 * (E[0] - E2)/mu_grid[0]\n",
    "    E2 = E1\n",
    "    E1 = E[0]\n",
    "    \n",
    "    # draw the new lines and text\n",
    "    lineE.set_data(space_grid, E)\n",
    "    lineH.set_data(space_grid, H)\n",
    "    txt.set_text(\"Time: {:.2f} ps.\".format(time_grid[time_step]))\n",
    "    return lineE, lineH"
   ]
  },
  {
   "cell_type": "code",
   "execution_count": null,
   "metadata": {
    "scrolled": false
   },
   "outputs": [],
   "source": [
    "maxwell4 = animation.FuncAnimation(fig, animate, frames=time_frames, interval=10, blit=True)\n",
    "maxwell4"
   ]
  }
 ],
 "metadata": {
  "kernelspec": {
   "display_name": "Python 3",
   "language": "python",
   "name": "python3"
  },
  "language_info": {
   "codemirror_mode": {
    "name": "ipython",
    "version": 3
   },
   "file_extension": ".py",
   "mimetype": "text/x-python",
   "name": "python",
   "nbconvert_exporter": "python",
   "pygments_lexer": "ipython3",
   "version": "3.8.3"
  }
 },
 "nbformat": 4,
 "nbformat_minor": 4
}
