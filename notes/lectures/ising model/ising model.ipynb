{
 "cells": [
  {
   "cell_type": "code",
   "execution_count": null,
   "metadata": {},
   "outputs": [],
   "source": [
    "from numba import njit\n",
    "import numpy as np\n",
    "import matplotlib.pyplot as plt\n",
    "from tqdm.notebook import tqdm, trange # conda install -c conda-forge tqdm\n",
    "%matplotlib notebook\n",
    "\n",
    "rng = np.random.default_rng()"
   ]
  },
  {
   "cell_type": "code",
   "execution_count": null,
   "metadata": {},
   "outputs": [],
   "source": [
    "def plotIsing(lattice):\n",
    "    up   = np.where(lattice > 0)\n",
    "    down = np.where(lattice < 0)\n",
    "    plt.scatter(*up, c='red')\n",
    "    plt.scatter(*down, c='blue')\n",
    "    plt.gca().set_aspect(1)\n",
    "    plt.xticks([]); plt.yticks([])\n",
    "    plt.show()"
   ]
  },
  {
   "cell_type": "code",
   "execution_count": null,
   "metadata": {},
   "outputs": [],
   "source": [
    "def energy(lattice):\n",
    "    inds = np.arange(N**2)\n",
    "    rows = inds//N\n",
    "    cols = inds%N\n",
    "    subLat1 = lattice[rows,cols]\n",
    "    subLat2 = lattice[rows,(cols+1)%N]\n",
    "    subLat3 = lattice[(rows+1)%N,cols]\n",
    "    return -np.sum(subLat1*subLat2 + subLat1*subLat3)"
   ]
  },
  {
   "cell_type": "code",
   "execution_count": null,
   "metadata": {},
   "outputs": [],
   "source": [
    "def magnetisation(lattice):\n",
    "    return np.sum(lattice)"
   ]
  },
  {
   "cell_type": "code",
   "execution_count": null,
   "metadata": {},
   "outputs": [],
   "source": [
    "def mcstep(lattice):\n",
    "    inds = rng.integers(N**2, size=(N**2))\n",
    "    rands= rng.random(N**2)\n",
    "    ii, jj = inds//N, inds%N\n",
    "    for rand, i, j in zip(rands, ii, jj):\n",
    "        site = lattice[i, j]\n",
    "        deltaE = site*(lattice[i-1, j] + lattice[i, (j+1)%N] + lattice[(i+1)%N, j] + lattice[i, j-1])\n",
    "        p = pacc[deltaE//2 + 2]\n",
    "        if p >= 1.0:\n",
    "            lattice[i, j] *= -1\n",
    "        elif rand < p:\n",
    "            lattice[i, j] *= -1\n",
    "    return lattice"
   ]
  },
  {
   "cell_type": "code",
   "execution_count": null,
   "metadata": {},
   "outputs": [],
   "source": [
    "# a second mcstep function for the just in time compilation\n",
    "def mcstep2(lattice, inds, rands, pacc):\n",
    "    ii, jj = inds//N, inds%N\n",
    "    for rand, i, j in zip(rands, ii, jj):\n",
    "        site = lattice[i, j]\n",
    "        deltaE = site*(lattice[i-1, j] + lattice[i, (j+1)%N] + lattice[(i+1)%N, j] + lattice[i, j-1])\n",
    "        p = pacc[deltaE//2 + 2]\n",
    "        if p >= 1.0:\n",
    "            lattice[i, j] *= -1\n",
    "        elif rand < p:\n",
    "            lattice[i, j] *= -1\n",
    "    return lattice"
   ]
  },
  {
   "cell_type": "code",
   "execution_count": null,
   "metadata": {},
   "outputs": [],
   "source": [
    "def statistics(ene, mag, temp):\n",
    "    eneMean = np.mean(ene)\n",
    "    ene2Mean= np.mean(ene**2)\n",
    "    eneStd  = np.std(ene)\n",
    "    magMean = np.mean(mag)\n",
    "    mag2Mean= np.mean(mag**2)\n",
    "    magStd  = np.std(mag)\n",
    "    \n",
    "    cvMean  = 1/N**2/temp*(ene2Mean - eneMean**2)\n",
    "    chiMean = 1/N**2/temp*(mag2Mean - magMean**2)\n",
    "    return np.array([eneMean, eneStd, magMean, magStd, cvMean, chiMean])"
   ]
  },
  {
   "cell_type": "code",
   "execution_count": null,
   "metadata": {},
   "outputs": [],
   "source": [
    "def autocorr(x):\n",
    "    result = np.correlate(x, x, mode='full')\n",
    "    result = result[result.size // 2:]\n",
    "    return result/result[0]"
   ]
  },
  {
   "cell_type": "code",
   "execution_count": null,
   "metadata": {},
   "outputs": [],
   "source": [
    "N = 50\n",
    "MC = 10000\n",
    "equil = 30000\n",
    "lattice = 2*rng.integers(2,size=(N,N)) - 1\n",
    "temps = np.linspace(2.5,2.0,11,endpoint=True)\n",
    "data  = np.empty((6,len(temps)))\n",
    "ene = np.empty((MC))\n",
    "mag = np.empty((MC))\n",
    "eneCorr = np.empty((MC, len(temps)))\n",
    "magCorr = np.empty((MC, len(temps)))\n",
    "\n",
    "# just in time compilation and first execution\n",
    "jitted_mcstep = njit()(mcstep2)\n",
    "inds = rng.integers(N**2, size=(N**2))\n",
    "rands= rng.random(N**2)\n",
    "pacc = np.array([np.exp(-dE/3.0) for dE in range(-8,9,4)])\n",
    "lattice = jitted_mcstep(lattice, inds, rands, pacc)\n",
    "\n",
    "pbar = tqdm(total=(MC+equil)*len(temps))\n",
    "for i in range(len(temps)):\n",
    "    pacc = np.array([np.exp(-dE/temps[i]) for dE in range(-8,9,4)])\n",
    "\n",
    "    pbar.set_description(\"T = {t:.2f}\".format(t=temps[i]))\n",
    "\n",
    "    # equilibration\n",
    "    for _ in range(equil):\n",
    "        inds = rng.integers(N**2, size=(N**2))\n",
    "        rands= rng.random(N**2)\n",
    "        lattice = jitted_mcstep(lattice, inds, rands, pacc)\n",
    "        #lattice = mcstep(lattice)\n",
    "        pbar.update()\n",
    "\n",
    "    # sampling\n",
    "    for step in range(MC):\n",
    "        inds = rng.integers(N**2, size=(N**2))\n",
    "        rands= rng.random(N**2)\n",
    "        lattice = jitted_mcstep(lattice, inds, rands, pacc)\n",
    "        #lattice = mcstep(lattice)\n",
    "        ene[step], mag[step] = energy(lattice), magnetisation(lattice)\n",
    "        pbar.update()\n",
    "\n",
    "    data[:,i] = statistics(ene, mag, temps[i])\n",
    "\n",
    "    eneCorr[:,i] = autocorr(ene)\n",
    "    magCorr[:,i] = autocorr(mag)\n",
    "    \n",
    "pbar.close()"
   ]
  },
  {
   "cell_type": "code",
   "execution_count": null,
   "metadata": {},
   "outputs": [],
   "source": [
    "def plotData(temps,data):\n",
    "    plt.figure()\n",
    "    plt.subplot(221)\n",
    "    plt.errorbar(temps, data[0,:]/N**2,data[1,:]/N**2)\n",
    "    plt.ylim(-2,0)\n",
    "    plt.title('Energy')\n",
    "    plt.ylabel('Energy')\n",
    "    plt.xlabel('Temperature')\n",
    "    plt.subplot(222)\n",
    "    plt.errorbar(temps, np.abs(data[2,:])/N**2,data[3,:]/N**2)\n",
    "    plt.ylim(0,1)\n",
    "    plt.title('Magnetization')\n",
    "    plt.ylabel('Magnetization')\n",
    "    plt.xlabel('Temperature')\n",
    "    plt.subplot(223)\n",
    "    plt.scatter(temps, data[4,:])\n",
    "    plt.ylim(0,)\n",
    "    plt.title('Heat Capacity')\n",
    "    plt.ylabel('Heat Capacity')\n",
    "    plt.xlabel('Temperature')\n",
    "    plt.subplot(224)\n",
    "    plt.scatter(temps, data[5,:])\n",
    "    plt.ylim(0,)\n",
    "    plt.title('Magnetic Susceptibility')\n",
    "    plt.ylabel('Magnetic Susceptibility')\n",
    "    plt.xlabel('Temperature')\n",
    "    plt.tight_layout()\n",
    "    plt.show"
   ]
  },
  {
   "cell_type": "code",
   "execution_count": null,
   "metadata": {
    "scrolled": false
   },
   "outputs": [],
   "source": [
    "plotData(temps,data)"
   ]
  },
  {
   "cell_type": "code",
   "execution_count": null,
   "metadata": {},
   "outputs": [],
   "source": [
    "for i in range(len(temps)):\n",
    "    plt.title('Autocorr. magnetisation')\n",
    "    plt.plot(magCorr[:,i], label='T=%.2f'%temps[i])\n",
    "    plt.legend()\n",
    "plt.show()"
   ]
  },
  {
   "cell_type": "code",
   "execution_count": null,
   "metadata": {},
   "outputs": [],
   "source": [
    "for i in range(len(temps)):\n",
    "    plt.title('Autocorr. energy')\n",
    "    plt.plot(eneCorr[:,i], label='T=%.2f'%temps[i])\n",
    "    plt.legend()\n",
    "plt.show()"
   ]
  },
  {
   "cell_type": "code",
   "execution_count": null,
   "metadata": {},
   "outputs": [],
   "source": []
  }
 ],
 "metadata": {
  "kernelspec": {
   "display_name": "Python 3",
   "language": "python",
   "name": "python3"
  },
  "language_info": {
   "codemirror_mode": {
    "name": "ipython",
    "version": 3
   },
   "file_extension": ".py",
   "mimetype": "text/x-python",
   "name": "python",
   "nbconvert_exporter": "python",
   "pygments_lexer": "ipython3",
   "version": "3.8.3"
  }
 },
 "nbformat": 4,
 "nbformat_minor": 4
}
