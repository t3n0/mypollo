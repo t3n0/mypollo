{
 "cells": [
  {
   "cell_type": "markdown",
   "metadata": {},
   "source": [
    "# Timing and profiling python\n",
    "\n",
    "Writing efficient code is a difficult matter. High-level programming languages (like python) provide multiple ways of performing the same tasks. Certain programming choices can be faster, more reliable and more efficient than others. And assessing the efficiency of different implementations is an important skill to learn.\n",
    "Beware however not to indulge to much into code optimisation at the early stage of development. A famous quote from Donald Knuth states, \"We should forget about small efficiencies, say about 97% of the time: premature optimization is the root of all evil.\"\n",
    "\n",
    "That said, let's dig into the most useful python libraries for profiling and timing our code.\n",
    "Within the Jupyter (or IPython) environment, we will explore the capabilities of the following **magic commands**:\n",
    "* `%time`: elapsed time of a statement *single call*\n",
    "* `%timeit`: average elapsed time of a statement *multiple calls* (for better accuracy)\n",
    "* `%prun`: elapsed time *line-by-line* of a statement\n",
    "* `%lprun`: similar to the above, but more precise\n",
    "* `%memit`: memory usage of a single statement\n",
    "* `%mprun`: memory usage of a single statement, line-by-line\n",
    "\n",
    "The last three commands are not part of the default python distribution and must be manually installed.\n",
    "The packages required are `line_profiler` and `memory_profiler`. These can be easily installed with `pip`\n",
    "\n",
    "`$ pip install line_profiler`\n",
    "\n",
    "Or with `anaconda`\n",
    "\n",
    "`$ conda install -c anaconda memory_profiler`\n",
    "\n",
    "(sorry, don't know how to do that in Windows).\n",
    "\n",
    "Once installed , they can be imported into Jupyter with the command\n",
    "\n",
    "`%load_ext line_profiler` and `%load_ext memory_profiler`\n",
    "\n",
    "Note that calling Jupyter magic commands with one `%` only evaluates one statement (line-magic commands).\n",
    "For evaluating snippets of code use double `%%` (cell-magic commands).\n",
    "\n",
    "Finally, by appending `?` to a command, we can get some help on how to use it: for example `%timeit?` displays the usage of the `%timeit` magic command."
   ]
  },
  {
   "cell_type": "markdown",
   "metadata": {},
   "source": [
    "# `%timeit`\n",
    "\n",
    "Let's start with an example. We want to compute the sum of all the values of a list of numbers.\n",
    "There are several way to do this:\n",
    "* we can write our own summing function\n",
    "* we can use the built-in python `sum()` command\n",
    "* we can import numpy and call the `numpy.sum()` method.\n",
    "\n",
    "To profile these three implementations we will use the `%timeit` magic command. By simply typing\n",
    "\n",
    "`%timeit <some python statement>`\n",
    "\n",
    "we can resolve how much time the python statement takes for execution.\n",
    "\n",
    "Let's try."
   ]
  },
  {
   "cell_type": "code",
   "execution_count": null,
   "metadata": {},
   "outputs": [],
   "source": [
    "# import numpy\n",
    "import numpy as np\n",
    "\n",
    "# defining our user-defined summing function\n",
    "def mysum(some_list):\n",
    "    tot = 0\n",
    "    for value in some_list:\n",
    "        tot += value\n",
    "    return tot"
   ]
  },
  {
   "cell_type": "code",
   "execution_count": null,
   "metadata": {},
   "outputs": [],
   "source": [
    "# our list of numbers, python style\n",
    "mylist = list(range(100))\n",
    "\n",
    "print(type(mylist))\n",
    "\n",
    "%timeit s = mysum(mylist)\n",
    "%timeit s = sum(mylist)\n",
    "%timeit s = np.sum(mylist)"
   ]
  },
  {
   "cell_type": "code",
   "execution_count": null,
   "metadata": {},
   "outputs": [],
   "source": [
    "# our list of numbers, numpy style\n",
    "mylist = np.arange(100)\n",
    "\n",
    "print(type(mylist))\n",
    "\n",
    "%timeit s = mysum(mylist)\n",
    "%timeit s = sum(mylist)\n",
    "%timeit s = np.sum(mylist)"
   ]
  },
  {
   "cell_type": "markdown",
   "metadata": {},
   "source": [
    "## What happened?\n",
    "\n",
    "The output of `timeit` shows the elapsed time for an average calculation plus or minus some error.\n",
    "This is perfomed automatically, since many loops are taken in order to achive sufficient accuracy.\n",
    "\n",
    "In the above cells, we profiled `mysum`, `sum` and `numpy.sum` for two different cases:\n",
    "* a python `list` of numbers\n",
    "* a `numpy.ndarray` of numbers\n",
    "\n",
    "of same length.\n",
    "\n",
    "Our function performs pretty bad in both cases. For example, in my machine, summing up a 100-element array took 6 µs and 37 µs for the `list` and `numpy.ndarray` case, respectively.\n",
    "\n",
    "On the other hand, the built-in `sum()` performed **extrimely** well with the `list` (1 µs), but terribly with `numpy.ndarray` (30 µs).\n",
    "\n",
    "Similarly, `numpy.sum()` peformed very well with `numpy.ndarray` (6 µs), but **extrimely** bad (worst than our function) with the `list` (21 µs).\n",
    "\n",
    "We conclude that user define functions, if not properly optimized, must be avoided when a similar built-in function or method is available. Also, we see that mixing different frameworks (i.e. summing `ndarray` with `sum()` or using `numpy.sum()` with `list`) is also a bad idea.\n",
    "\n",
    "However, why does `sum()` perform **better** than `numpy.sum()` still?\n",
    "\n",
    "Let's try to change the length of the list.\n",
    "\n",
    "We write a simple program that iterates over some array lengths and stores the elapsed time in a list.\n",
    "Please note that the `%timeit` magic command does not allow to return the elapsed time interactively.\n",
    "However we can use the python library `time` to access the function [`time.perf_counter()`](https://docs.python.org/3/library/time.html#time.perf_counter).\n",
    "This function is what `timeit` calls by [default](https://docs.python.org/3/library/timeit.html#timeit.default_timer)."
   ]
  },
  {
   "cell_type": "code",
   "execution_count": null,
   "metadata": {},
   "outputs": [],
   "source": [
    "import time\n",
    "import matplotlib.pyplot as plt\n",
    "%matplotlib notebook\n",
    "\n",
    "Ns = [100, 200, 500, 1000, 2000, 5000, 10000]\n",
    "\n",
    "python_times = []\n",
    "numpy_times = []\n",
    "\n",
    "for N in Ns:\n",
    "    mylist = list(range(N))\n",
    "    tot = 0\n",
    "    for i in range(1000):\n",
    "        start = time.perf_counter()          # start\n",
    "        s = sum(mylist)\n",
    "        tot += (time.perf_counter() - start) # stop\n",
    "    python_times.append(tot*1000)\n",
    "    \n",
    "    mylist = np.arange(N)\n",
    "    tot = 0\n",
    "    for i in range(1000):\n",
    "        start = time.perf_counter()          # start\n",
    "        s = np.sum(mylist)\n",
    "        tot += (time.perf_counter() - start) # stop\n",
    "    numpy_times.append(tot*1000)\n",
    "\n",
    "plt.plot(Ns, python_times, label='Python')\n",
    "plt.plot(Ns, numpy_times, label='Numpy')\n",
    "plt.xlabel('Length')\n",
    "plt.ylabel('Time (µs)')\n",
    "plt.legend()\n",
    "plt.show()"
   ]
  },
  {
   "cell_type": "markdown",
   "metadata": {},
   "source": [
    "## Impressive!\n",
    "\n",
    "Over the long run, `numpy` performs **incredibily better** than standard `python`. This has to do with the initial *overhead* of `numpy` objects and to the fact that `numpy` methods are written in precompiled C language.\n",
    "\n",
    "The take home message is try to avoid user-defined function and instead use built-in methods. Also, pay attention to the scaling of those methods, since the intrinsic overhead of python objects can consume unnecessary time resources.\n",
    "\n",
    "<div class=\"alert alert-success\">\n",
    "<b>TRY IT YOURSELF!</b><br>\n",
    "</div>\n",
    "\n",
    "Try to profile some of the most common task used in scientific programmming and find out which is better. Below are some examples:\n",
    "* array initialisation: `range`, `list`, `numpy.arange()`, `numpy.zeros()`\n",
    "* concatenation: `list1 + [list2]`, `mylist.append()`, `numpy.append()`, `numpy.concatenate()`\n",
    "* aggregations: `min`, `max`, `mean`, etc\n",
    "* sorting `mylist.sort()`, `myarray.sort()`, `numpy.sort()`\n",
    "* indexing and masks \n",
    "* broadcasting\n",
    "\n",
    "The following are some of my attempts."
   ]
  },
  {
   "cell_type": "code",
   "execution_count": null,
   "metadata": {},
   "outputs": [],
   "source": [
    "# array initialisation\n",
    "%timeit arr = range(1000)\n",
    "%timeit arr = np.arange(0,10,0.01)\n",
    "%timeit arr = np.linspace(0,10,1000,endpoint=False)\n",
    "%timeit arr = np.empty(1000)\n",
    "%timeit arr = np.zeros(1000)"
   ]
  },
  {
   "cell_type": "code",
   "execution_count": null,
   "metadata": {},
   "outputs": [],
   "source": [
    "# lets generate some ndarrays and some python lists\n",
    "\n",
    "rng = np.random.default_rng(0) # random number generator, we set a seed for reproducibility\n",
    "\n",
    "arr1 = rng.random(10000)\n",
    "arr2 = rng.random(10000)\n",
    "\n",
    "list1 = list(arr1)\n",
    "list2 = list(arr2)"
   ]
  },
  {
   "cell_type": "code",
   "execution_count": null,
   "metadata": {},
   "outputs": [],
   "source": [
    "# list <-> ndarray conversion\n",
    "%timeit arr = list(arr2)\n",
    "%timeit arr = np.array(arr1)"
   ]
  },
  {
   "cell_type": "code",
   "execution_count": null,
   "metadata": {},
   "outputs": [],
   "source": [
    "# max and np.max\n",
    "%timeit max(arr1)\n",
    "%timeit np.max(arr1)\n",
    "%timeit max(list1)\n",
    "%timeit np.max(list1)"
   ]
  },
  {
   "cell_type": "code",
   "execution_count": null,
   "metadata": {},
   "outputs": [],
   "source": [
    "# appending to list\n",
    "# NOTE: we perform only one repetition and only one loop, because append() replace the list!!!\n",
    "%timeit -n 1 -r 1 list1 + [0.9387523] # avoid this!\n",
    "%timeit -n 1 -r 1 list1.append(0.9387523)\n",
    "%timeit -n 1 -r 1 list1 + list2       # avoid this!\n",
    "%timeit -n 1 -r 1 list1.extend(list2)\n",
    "\n",
    "# appending to ndarrays\n",
    "%timeit np.append(arr1,0.9387523)\n",
    "%timeit np.concatenate((arr1,[0.9387523]))\n",
    "%timeit np.append(arr1,arr2)\n",
    "%timeit np.concatenate((arr1, arr2))       # append uses concatenate, concatenate is faster"
   ]
  },
  {
   "cell_type": "code",
   "execution_count": null,
   "metadata": {},
   "outputs": [],
   "source": [
    "%timeit rng.random(10000)       # new policy\n",
    "%timeit np.random.random(10000) # legacy"
   ]
  },
  {
   "cell_type": "code",
   "execution_count": null,
   "metadata": {},
   "outputs": [],
   "source": [
    "# sorting\n",
    "# NOTE: list.sort() and ndarray.sort() replace the array!!\n",
    "%timeit -n 1 -r 1 list1.sort()\n",
    "%timeit -n 1 -r 1 arr1.sort()\n",
    "%timeit -n 1 -r 1 np.sort(arr2) # returns a copy!"
   ]
  },
  {
   "cell_type": "markdown",
   "metadata": {},
   "source": [
    "# `%prun` and `%lprun`\n",
    "\n",
    "The mafic command `%prun` is useful to profile the elapsed time of snippets of code line-by-line.\n",
    "For example, let's define some function that computed the mean and the variance of a collection of data:"
   ]
  },
  {
   "cell_type": "code",
   "execution_count": null,
   "metadata": {},
   "outputs": [],
   "source": [
    "# average and variance of a collection of data\n",
    "# data is a 2-d array, each row is an independent set of measurements\n",
    "def meanvar(data):\n",
    "    mean = []\n",
    "    variance = []\n",
    "    for d in data:\n",
    "        mean.append(np.mean(d))\n",
    "        variance.append(np.var(d))\n",
    "    return np.array(mean), np.array(variance)"
   ]
  },
  {
   "cell_type": "code",
   "execution_count": null,
   "metadata": {},
   "outputs": [],
   "source": [
    "# let's create our sample data\n",
    "# say, 300 sets of 10000 elements each\n",
    "data = rng.random(size=(300,10000))"
   ]
  },
  {
   "cell_type": "code",
   "execution_count": null,
   "metadata": {},
   "outputs": [],
   "source": [
    "%prun mean, var = meanvar(data)"
   ]
  },
  {
   "cell_type": "markdown",
   "metadata": {},
   "source": [
    "As you can see, the `%prun` first return the number of calls and the total elapsed time (0.036 seconds in my machine).\n",
    "Also, it returns several useful information on the commands in our function, these are:\n",
    "* `ncalls`: number of single calls of our function methods\n",
    "* `tottime`: total time elapsed for all the method calls\n",
    "* `percall`: elapsed time per single call\n",
    "* `cumtime` and `percall`: same as the previous two, just cumulative.\n",
    "\n",
    "Results are returned in decreasing `tottime` order. We see, for example, that the most time consuming operation is calculating the variance `np.var()`. On my machine, this took 0.013 seconds (out of the 0.036 total time), which makes it 36% of the entire elapsed time!\n",
    "\n",
    "## Speed it up\n",
    "\n",
    "Lets try to get rid of the for loop using the capabilities of `numpy`.\n",
    "\n",
    "We can specify a specific `axis` over which to perform `mean` and `var`. Our function becomes the following."
   ]
  },
  {
   "cell_type": "code",
   "execution_count": null,
   "metadata": {},
   "outputs": [],
   "source": [
    "def optimal_meanvar(data):\n",
    "    return np.mean(data, axis=1), np.var(data, axis=1)"
   ]
  },
  {
   "cell_type": "markdown",
   "metadata": {},
   "source": [
    "Let's run again `%prun`."
   ]
  },
  {
   "cell_type": "code",
   "execution_count": null,
   "metadata": {},
   "outputs": [],
   "source": [
    "%prun mean, var = optimal_meanvar(data)"
   ]
  },
  {
   "cell_type": "markdown",
   "metadata": {},
   "source": [
    "Also, let's `%timeit` the two functions."
   ]
  },
  {
   "cell_type": "code",
   "execution_count": null,
   "metadata": {},
   "outputs": [],
   "source": [
    "%timeit mean, var = meanvar(data)\n",
    "%timeit mean, var = optimal_meanvar(data)"
   ]
  },
  {
   "cell_type": "markdown",
   "metadata": {},
   "source": [
    "## Impressive\n",
    "\n",
    "We got a perforance improvement of 50%! (on my machine)"
   ]
  },
  {
   "cell_type": "markdown",
   "metadata": {},
   "source": [
    "Finally, let's have a look at the `%lprun` command. First let's import the magic command with\n",
    "\n",
    "`%load_ext line_profiler`\n",
    "\n",
    "and then run\n",
    "\n",
    "`%lprun -f <function_name> <python_statement>`"
   ]
  },
  {
   "cell_type": "code",
   "execution_count": null,
   "metadata": {},
   "outputs": [],
   "source": [
    "%load_ext line_profiler"
   ]
  },
  {
   "cell_type": "code",
   "execution_count": null,
   "metadata": {},
   "outputs": [],
   "source": [
    "%lprun -f meanvar mean, var = meanvar(data)"
   ]
  },
  {
   "cell_type": "code",
   "execution_count": null,
   "metadata": {},
   "outputs": [],
   "source": [
    "%lprun -f optimal_meanvar mean, var = optimal_meanvar(data)"
   ]
  },
  {
   "cell_type": "markdown",
   "metadata": {},
   "source": [
    "`%lprun` acts in a similar way to `%prun`. It displays number of call, total time and time per call. The breakdown of the methods is more neat than the previous one, but the information given is less. I suggest to use both commands to have a clear insight on what python is doing under the hood when you want to optimise you code."
   ]
  },
  {
   "cell_type": "markdown",
   "metadata": {},
   "source": [
    "# `%memit` and `%mprun`\n",
    "\n",
    "Finally let's take a look on memory usage. The magic command `%memit` measures how much memory a single python statement uses, while the `%mprun` magic command performs the same task line-by-line.\n",
    "\n",
    "First, let's import `memory_profiler` with\n",
    "\n",
    "`%load_ext memory_profiler`\n",
    "\n",
    "Usage is similar to the previously discussed commands:\n",
    "\n",
    "`%memit <python_statement>`\n",
    "\n",
    "`%mprun -f <function_name> <python_statement>`\n",
    "\n",
    "Let's start with an example."
   ]
  },
  {
   "cell_type": "code",
   "execution_count": null,
   "metadata": {},
   "outputs": [],
   "source": [
    "%load_ext memory_profiler"
   ]
  },
  {
   "cell_type": "code",
   "execution_count": null,
   "metadata": {},
   "outputs": [],
   "source": [
    "# how much memory does this take\n",
    "%memit pollo = np.full(1000000,1-1j,dtype='complex')"
   ]
  },
  {
   "cell_type": "markdown",
   "metadata": {},
   "source": [
    "`memit` displays two values: peak memory is the memory of this entire Jupyter notebook, incrememt is the memory increment due to our command. In this case we initialized an array of 1000000 complex numbers, each complex number uses 128 bits of memory (by default numpy uses `complex128`), 8 bits per bytes, 1024 bytes per kB, 1024 kB per MB: correct, we get exactly 15.26 MB.\n",
    "\n",
    "Now let's look at the line-by-line memory profiler.\n",
    "To use `%mprun`, we need to import the function to profile *from file*. So let's create a file with `%%file`, define a function and import it."
   ]
  },
  {
   "cell_type": "code",
   "execution_count": null,
   "metadata": {},
   "outputs": [],
   "source": [
    "%%file file_with_my_function.py\n",
    "\n",
    "import numpy as np\n",
    "\n",
    "def psi(x):\n",
    "    y = np.exp(-x**2)\n",
    "    A = np.trapz(y**2, x)\n",
    "    y /= np.sqrt(A)\n",
    "    return y"
   ]
  },
  {
   "cell_type": "code",
   "execution_count": null,
   "metadata": {},
   "outputs": [],
   "source": [
    "import file_with_my_function as fil"
   ]
  },
  {
   "cell_type": "code",
   "execution_count": null,
   "metadata": {},
   "outputs": [],
   "source": [
    "%memit x = np.linspace(-10,10,1000000)"
   ]
  },
  {
   "cell_type": "code",
   "execution_count": null,
   "metadata": {},
   "outputs": [],
   "source": [
    "%mprun -f fil.psi psi = fk.psi(x)"
   ]
  },
  {
   "cell_type": "markdown",
   "metadata": {},
   "source": [
    "`%mprun` breaks down each command of our user-define function and shows how much memory each statement uses.\n",
    "\n",
    "Final note, `numpy` functions such as `numpy.exp()`, `numpy.multiply()`, etc, save their return value into a temporary memory slot before returning it to the assigned variable. To avoid this waste of memeory (especially when memory is a concern), numpy provides the keyword `out` to all of its universal functions.\n",
    "\n",
    "This means that"
   ]
  },
  {
   "cell_type": "code",
   "execution_count": null,
   "metadata": {},
   "outputs": [],
   "source": [
    "%memit y = np.sin(x)"
   ]
  },
  {
   "cell_type": "code",
   "execution_count": null,
   "metadata": {},
   "outputs": [],
   "source": [
    "%memit"
   ]
  },
  {
   "cell_type": "code",
   "execution_count": null,
   "metadata": {},
   "outputs": [],
   "source": [
    "%memit z = np.empty(len(x), dtype='float')"
   ]
  },
  {
   "cell_type": "code",
   "execution_count": null,
   "metadata": {},
   "outputs": [],
   "source": [
    "%memit np.sin(x, out=z)"
   ]
  },
  {
   "cell_type": "markdown",
   "metadata": {},
   "source": [
    "As you can see, the last input only uses half of the memory! This is because the result of `numpy.sin()` is directly stored into the already declared variable!"
   ]
  },
  {
   "cell_type": "markdown",
   "metadata": {},
   "source": [
    "## Final remarks\n",
    "\n",
    "This conludes this part of the tutorial on timing and profiling python scripts. This excercise is of course not exhaustive as python is an ongoing project still in development.\n",
    "\n",
    "For more up to date information, hints, suggestions, please refere to the official documentation\n",
    "* [Python Data Science Handbook](https://jakevdp.github.io/PythonDataScienceHandbook/index.html)\n",
    "* [Numpy user guide](https://numpy.org/doc/stable/user/index.html)"
   ]
  }
 ],
 "metadata": {
  "kernelspec": {
   "display_name": "Python 3",
   "language": "python",
   "name": "python3"
  },
  "language_info": {
   "codemirror_mode": {
    "name": "ipython",
    "version": 3
   },
   "file_extension": ".py",
   "mimetype": "text/x-python",
   "name": "python",
   "nbconvert_exporter": "python",
   "pygments_lexer": "ipython3",
   "version": "3.8.3"
  }
 },
 "nbformat": 4,
 "nbformat_minor": 4
}
