{
 "cells": [
  {
   "cell_type": "code",
   "execution_count": null,
   "metadata": {},
   "outputs": [],
   "source": [
    "from numba import njit\n",
    "import numpy as np\n",
    "import matplotlib.pyplot as plt\n",
    "from tqdm.notebook import tqdm, trange # conda install -c conda-forge tqdm\n",
    "%matplotlib notebook\n",
    "\n",
    "rng = np.random.default_rng()"
   ]
  },
  {
   "cell_type": "code",
   "execution_count": null,
   "metadata": {},
   "outputs": [],
   "source": [
    "N = 30\n",
    "temp = 2.3\n",
    "lattice = 2*rng.integers(2,size=(N,N)) - 1\n",
    "pacc = np.array([np.exp(-dE/temp) for dE in range(-8,9,4)])"
   ]
  },
  {
   "cell_type": "code",
   "execution_count": null,
   "metadata": {},
   "outputs": [],
   "source": [
    "def plotIsing(lattice):\n",
    "    up   = np.where(lattice > 0)\n",
    "    down = np.where(lattice < 0)\n",
    "    plt.scatter(*up, c='red')\n",
    "    plt.scatter(*down, c='blue')\n",
    "    plt.gca().set_aspect(1)\n",
    "    plt.xticks([]); plt.yticks([])\n",
    "    plt.show()"
   ]
  },
  {
   "cell_type": "code",
   "execution_count": null,
   "metadata": {},
   "outputs": [],
   "source": [
    "plotIsing(lattice)"
   ]
  },
  {
   "cell_type": "code",
   "execution_count": null,
   "metadata": {},
   "outputs": [],
   "source": [
    "def energy(lattice):\n",
    "    inds = np.arange(N**2)\n",
    "    rows = inds//N\n",
    "    cols = inds%N\n",
    "    subLat1 = lattice[rows,cols]\n",
    "    subLat2 = lattice[rows,(cols+1)%N]\n",
    "    subLat3 = lattice[(rows+1)%N,cols]\n",
    "    return -np.sum(subLat1*subLat2 + subLat1*subLat3)"
   ]
  },
  {
   "cell_type": "code",
   "execution_count": null,
   "metadata": {},
   "outputs": [],
   "source": [
    "def magnetisation(lattice):\n",
    "    return np.sum(lattice)"
   ]
  },
  {
   "cell_type": "code",
   "execution_count": null,
   "metadata": {},
   "outputs": [],
   "source": [
    "jitted_magnetisation = njit()(magnetisation)"
   ]
  },
  {
   "cell_type": "code",
   "execution_count": null,
   "metadata": {},
   "outputs": [],
   "source": [
    "jitted_magnetisation(lattice)"
   ]
  },
  {
   "cell_type": "code",
   "execution_count": null,
   "metadata": {},
   "outputs": [],
   "source": [
    "%timeit magnetisation(lattice)\n",
    "%timeit jitted_magnetisation(lattice)"
   ]
  },
  {
   "cell_type": "code",
   "execution_count": null,
   "metadata": {},
   "outputs": [],
   "source": [
    "jitted_magnetisation(lattice)"
   ]
  },
  {
   "cell_type": "code",
   "execution_count": null,
   "metadata": {},
   "outputs": [],
   "source": [
    "def mcstep(lattice, inds, rands):\n",
    "    ii, jj = inds//N, inds%N\n",
    "    for rand, i, j in zip(rands, ii, jj):\n",
    "        site = lattice[i, j]\n",
    "        deltaE = site*(lattice[i-1, j] + lattice[i, (j+1)%N] + lattice[(i+1)%N, j] + lattice[i, j-1])\n",
    "        p = pacc[deltaE//2 + 2]\n",
    "        if p >= 1.0:\n",
    "            lattice[i, j] *= -1\n",
    "        elif rand < p:\n",
    "            lattice[i, j] *= -1\n",
    "    return lattice"
   ]
  },
  {
   "cell_type": "code",
   "execution_count": null,
   "metadata": {},
   "outputs": [],
   "source": [
    "def mcstep2(lattice, inds, rands):\n",
    "    ii, jj = inds//N, inds%N\n",
    "    for k in range(len(rands)):\n",
    "        site = lattice[ii[k], jj[k]]\n",
    "        deltaE = site*(lattice[ii[k]-1, jj[k]] + lattice[ii[k], (jj[k]+1)%N] + lattice[(ii[k]+1)%N, jj[k]] + lattice[ii[k], jj[k]-1])\n",
    "        p = pacc[deltaE//2 + 2]\n",
    "        if p >= 1.0:\n",
    "            lattice[ii[k], jj[k]] *= -1\n",
    "        elif rands[k] < p:\n",
    "            lattice[ii[k], jj[k]] *= -1\n",
    "    return lattice"
   ]
  },
  {
   "cell_type": "code",
   "execution_count": null,
   "metadata": {},
   "outputs": [],
   "source": [
    "jitted_mcstep = njit()(mcstep)\n",
    "jitted_mcstep2 = njit()(mcstep2)"
   ]
  },
  {
   "cell_type": "code",
   "execution_count": null,
   "metadata": {},
   "outputs": [],
   "source": [
    "inds = rng.integers(N**2, size=(N**2))\n",
    "rands= rng.random(N**2)\n",
    "jitted_mcstep2(lattice, inds, rands)"
   ]
  },
  {
   "cell_type": "code",
   "execution_count": null,
   "metadata": {},
   "outputs": [],
   "source": [
    "%%timeit\n",
    "inds = rng.integers(N**2, size=(N**2))\n",
    "rands= rng.random(N**2)\n",
    "mcstep(lattice, inds, rands)"
   ]
  },
  {
   "cell_type": "code",
   "execution_count": null,
   "metadata": {},
   "outputs": [],
   "source": [
    "%%timeit\n",
    "inds = rng.integers(N**2, size=(N**2))\n",
    "rands= rng.random(N**2)\n",
    "jitted_mcstep(lattice, inds, rands)"
   ]
  },
  {
   "cell_type": "code",
   "execution_count": null,
   "metadata": {},
   "outputs": [],
   "source": [
    "%%timeit\n",
    "inds = rng.integers(N**2, size=(N**2))\n",
    "rands= rng.random(N**2)\n",
    "jitted_mcstep2(lattice, inds, rands)"
   ]
  },
  {
   "cell_type": "code",
   "execution_count": null,
   "metadata": {
    "scrolled": false
   },
   "outputs": [],
   "source": [
    "inds = rng.integers(N**2, size=(N**2))\n",
    "rands= rng.random(N**2)\n",
    "mcstep(lattice, inds, rands) == jitted_mcstep(lattice, inds, rands)"
   ]
  },
  {
   "cell_type": "code",
   "execution_count": null,
   "metadata": {},
   "outputs": [],
   "source": []
  }
 ],
 "metadata": {
  "kernelspec": {
   "display_name": "Python 3",
   "language": "python",
   "name": "python3"
  },
  "language_info": {
   "codemirror_mode": {
    "name": "ipython",
    "version": 3
   },
   "file_extension": ".py",
   "mimetype": "text/x-python",
   "name": "python",
   "nbconvert_exporter": "python",
   "pygments_lexer": "ipython3",
   "version": "3.8.3"
  }
 },
 "nbformat": 4,
 "nbformat_minor": 4
}
