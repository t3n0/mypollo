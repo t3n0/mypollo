{
 "cells": [
  {
   "cell_type": "code",
   "execution_count": null,
   "metadata": {},
   "outputs": [],
   "source": [
    "import numpy as np\n",
    "import matplotlib.pyplot as plt\n",
    "%matplotlib notebook"
   ]
  },
  {
   "cell_type": "code",
   "execution_count": null,
   "metadata": {},
   "outputs": [],
   "source": [
    "V0, L = -15, 5 # Hartree, bohr"
   ]
  },
  {
   "cell_type": "code",
   "execution_count": null,
   "metadata": {},
   "outputs": [],
   "source": [
    "energyGrid = np.linspace(V0 + 1e-10, 0, 1000)\n",
    "alpha = np.sqrt(-2*energyGrid)\n",
    "kappa = np.sqrt(2*(energyGrid-V0))\n",
    "evenFuncTan = alpha - kappa*np.tan(kappa*L)\n",
    "oddFuncTan  = alpha + kappa/np.tan(kappa*L)"
   ]
  },
  {
   "cell_type": "code",
   "execution_count": null,
   "metadata": {},
   "outputs": [],
   "source": [
    "plt.plot(energyGrid, evenFuncTan, label='Even')\n",
    "plt.plot(energyGrid, oddFuncTan, label='Odd')\n",
    "plt.axhline(0,c='grey')\n",
    "plt.xlim(V0,0)\n",
    "plt.ylim(-30,30)\n",
    "plt.legend()\n",
    "plt.show()"
   ]
  },
  {
   "cell_type": "code",
   "execution_count": null,
   "metadata": {},
   "outputs": [],
   "source": [
    "evenFuncSin = alpha*np.cos(kappa*L) - kappa*np.sin(kappa*L)\n",
    "oddFuncSin = alpha*np.sin(kappa*L) + kappa*np.cos(kappa*L)"
   ]
  },
  {
   "cell_type": "code",
   "execution_count": null,
   "metadata": {},
   "outputs": [],
   "source": [
    "plt.plot(energyGrid, evenFuncSin, label='Even')\n",
    "plt.plot(energyGrid, oddFuncSin, label='Odd')\n",
    "plt.axhline(0,c='grey')\n",
    "plt.xlim(V0,0)\n",
    "plt.ylim(-30,30)\n",
    "plt.legend()\n",
    "plt.show()"
   ]
  },
  {
   "cell_type": "code",
   "execution_count": null,
   "metadata": {},
   "outputs": [],
   "source": [
    "z = np.sqrt(-2*V0)*L\n",
    "y = np.linspace(0,z,1000)\n",
    "evenFuncZ = np.sqrt(z**2 - y**2)*np.cos(y) - y*np.sin(y)\n",
    "oddFuncZ = np.sqrt(z**2 - y**2)*np.sin(y) + y*np.cos(y)"
   ]
  },
  {
   "cell_type": "code",
   "execution_count": null,
   "metadata": {},
   "outputs": [],
   "source": [
    "plt.plot(y, evenFuncZ, label='Even')\n",
    "plt.plot(y, oddFuncZ, label='Odd')\n",
    "plt.axhline(0,c='grey')\n",
    "plt.xlim(0,z)\n",
    "plt.ylim(-z,z)\n",
    "plt.legend()\n",
    "plt.show()"
   ]
  },
  {
   "cell_type": "code",
   "execution_count": null,
   "metadata": {},
   "outputs": [],
   "source": [
    "semiCircle = np.sqrt(z**2-y**2)\n",
    "evenFuncYTan = y*np.tan(y)\n",
    "oddFuncYTan = -y/np.tan(y)"
   ]
  },
  {
   "cell_type": "code",
   "execution_count": null,
   "metadata": {},
   "outputs": [],
   "source": [
    "plt.plot(y, semiCircle)\n",
    "#plt.plot(y, evenFuncYTan)\n",
    "plt.plot(y, oddFuncYTan)\n",
    "plt.ylim(0,1.1*z)\n",
    "plt.xlim(0,1.1*z)\n",
    "plt.show()"
   ]
  },
  {
   "cell_type": "code",
   "execution_count": null,
   "metadata": {},
   "outputs": [],
   "source": [
    "totN = int(np.floor(2*z/np.pi) + 1)\n",
    "yn = np.arange(0,z,np.pi/2)\n",
    "yn = np.append(yn,z)\n",
    "evenFunc = lambda y: np.sqrt(z**2-y**2)*np.cos(y) - y*np.sin(y)\n",
    "oddFunc  = lambda y: np.sqrt(z**2-y**2)*np.sin(y) + y*np.cos(y)"
   ]
  },
  {
   "cell_type": "code",
   "execution_count": null,
   "metadata": {},
   "outputs": [],
   "source": [
    "yGrid = np.linspace(0,z,1000)\n",
    "plt.plot(yGrid, evenFunc(yGrid), label=\"Even\")\n",
    "plt.plot(yGrid, oddFunc(yGrid), label=\"Odd\")\n",
    "plt.plot([0,z],[0,0],'k--')\n",
    "plt.plot(yn,np.zeros(len(yn)),'o')\n",
    "#[plt.axvline(x=i, color='grey') for i in yn]\n",
    "plt.title(\"Energy zeros\")\n",
    "plt.xlabel(\"Energy\")\n",
    "plt.ylabel(\"Function\")\n",
    "plt.ylim(-z,z)\n",
    "plt.xlim(0,z)\n",
    "plt.legend()\n",
    "plt.show()"
   ]
  },
  {
   "cell_type": "code",
   "execution_count": null,
   "metadata": {},
   "outputs": [],
   "source": [
    "def findRootHybridBisectFalsePos(funcToUse, firstEdge, secondEdge, maxNumberIteration, \n",
    "                   positionToleranceAbsolute, valueToleranceAbsolute = 0.):\n",
    "    \"\"\" Finds the root of a 1D function with an hybrid method: Bisect + False Positionsecant  \"\"\"    \n",
    "    \n",
    "    fFirstEdge = funcToUse(firstEdge)\n",
    "    fSecondEdge = funcToUse(secondEdge)\n",
    "    \n",
    "    if fFirstEdge*fSecondEdge >= 0: raise Exception(\"Solution not bracketed\")\n",
    "    \n",
    "    secant = (firstEdge * fSecondEdge - secondEdge * fFirstEdge)/(fSecondEdge - fFirstEdge)\n",
    "    fSecant = funcToUse(secant)\n",
    "    middle = (firstEdge + secondEdge)/2.\n",
    "    fMiddle = funcToUse(middle)\n",
    "    error = 10 * positionToleranceAbsolute  \n",
    "    iteration = 0;\n",
    "    \n",
    "    while (error > positionToleranceAbsolute and abs(fSecant) > valueToleranceAbsolute) \\\n",
    "        and iteration < maxNumberIteration:\n",
    "        iteration += 1\n",
    "        \n",
    "        # We want to make sure that the secant is between middle and secondEdge\n",
    "        if (secant - middle)*(secondEdge - firstEdge) < 0.:\n",
    "            secondEdge, firstEdge = firstEdge, secondEdge      # Swap the storage of the edges \n",
    "            fSecondEdge, fFirstEdge = fFirstEdge, fSecondEdge  # Swap the storage of the values \n",
    "        \n",
    "        # Now we are sure that secant is between middle and (the value stored in) secondEdge\n",
    "        if fSecondEdge * fSecant <= 0: # then the zero is between secant and secondEdge\n",
    "            firstEdge = secant\n",
    "            fFirstEdge = fSecant\n",
    "        elif fMiddle * fSecant <= 0:   # then the zero is between middle and secant\n",
    "            firstEdge = middle\n",
    "            fFirstEdge = fMiddle\n",
    "            secondEdge = secant\n",
    "            fSecondEdge = fSecant  \n",
    "        else:                          # then the zero is between firstEdge and middle\n",
    "            secondEdge = middle\n",
    "            fSecondEdge = fMiddle\n",
    "            \n",
    "        oldSolution = secant\n",
    "        secant = (firstEdge * fSecondEdge - secondEdge * fFirstEdge)/(fSecondEdge - fFirstEdge)\n",
    "        fSecant = funcToUse(secant)\n",
    "        middle = (firstEdge + secondEdge)/2.\n",
    "        fMiddle = funcToUse(middle)\n",
    "        error = abs(secant - oldSolution)\n",
    "        \n",
    "    return secant, iteration"
   ]
  },
  {
   "cell_type": "code",
   "execution_count": null,
   "metadata": {},
   "outputs": [],
   "source": [
    "energy = []\n",
    "totIter = 0\n",
    "pErr, fErr = 1e-6, 0.0\n",
    "for i in range(totN):\n",
    "    if i%2 == 0:\n",
    "        en = findRootHybridBisectFalsePos(evenFunc, yn[i], yn[i+1], 10, pErr, fErr)\n",
    "    else:\n",
    "        en = findRootHybridBisectFalsePos(oddFunc, yn[i], yn[i+1], 10, pErr, fErr)\n",
    "    energy.append(en[0])\n",
    "    totIter += en[1]\n",
    "energy = np.array(energy)\n",
    "energy = energy**2/L/L/2 + V0\n",
    "print(totIter)\n",
    "print(energy)"
   ]
  },
  {
   "cell_type": "code",
   "execution_count": null,
   "metadata": {},
   "outputs": [],
   "source": [
    "squareWell = [[-2*L,-L,-L,L,L,2*L],[0,0,V0,V0,0,0]]\n",
    "xGrid = np.linspace(-2*L, 2*L, 1000)\n",
    "\n",
    "def evenPsi(E):\n",
    "    psi = np.ones(len(xGrid))\n",
    "    alpha = np.sqrt(-2*E)\n",
    "    kappa = np.sqrt(2*(E-V0))\n",
    "    C = np.exp(-alpha*L)/np.cos(kappa*L)\n",
    "    psi[xGrid < -L] = np.exp(alpha*xGrid[xGrid < -L])\n",
    "    psi[(xGrid > -L) & (xGrid < L)] = C*np.cos(kappa*xGrid[(xGrid > -L) & (xGrid < L)])\n",
    "    psi[xGrid > L] = np.exp(-alpha*xGrid[xGrid > L])\n",
    "    N = np.sqrt(np.trapz(psi**2,xGrid))\n",
    "    return psi/N\n",
    "\n",
    "def oddPsi(E):\n",
    "    psi = np.ones(len(xGrid))\n",
    "    alpha = np.sqrt(-2*E)\n",
    "    kappa = np.sqrt(2*(E-V0))\n",
    "    C = -np.exp(-alpha*L)/np.sin(kappa*L)\n",
    "    psi[xGrid < -L] = np.exp(alpha*xGrid[xGrid < -L])\n",
    "    psi[(xGrid > -L) & (xGrid < L)] = C*np.sin(kappa*xGrid[(xGrid > -L) & (xGrid < L)])\n",
    "    psi[xGrid > L] = -np.exp(-alpha*xGrid[xGrid > L])\n",
    "    N = np.sqrt(np.trapz(psi**2,xGrid))\n",
    "    return psi/N"
   ]
  },
  {
   "cell_type": "code",
   "execution_count": null,
   "metadata": {},
   "outputs": [],
   "source": [
    "baseLine = lambda E: np.full(len(xGrid),E)\n",
    "plt.title(\"Energy and wavefunctions\")\n",
    "plt.xlabel(\"x (bohr)\")\n",
    "plt.ylabel(\"Energy (Ha)\")\n",
    "plt.plot(*squareWell,'k--')\n",
    "for i in range(totN):\n",
    "    if i%2 == 0:\n",
    "        plt.plot(xGrid,evenPsi(energy[i]) + baseLine(energy[i]));\n",
    "        plt.plot(xGrid, baseLine(energy[i]), '-.',color='grey')\n",
    "        plt.text(xGrid[-1], energy[i], '{:.3f}'.format(energy[i]))\n",
    "    else:\n",
    "        plt.plot(xGrid,oddPsi(energy[i]) + baseLine(energy[i]));\n",
    "        plt.plot(xGrid, baseLine(energy[i]), '-.',color='grey')\n",
    "        plt.text(xGrid[-1], energy[i], '{:.3f}'.format(energy[i]))"
   ]
  },
  {
   "cell_type": "code",
   "execution_count": null,
   "metadata": {},
   "outputs": [],
   "source": [
    "def DOS(E, eGrid, sigma = 0.1):\n",
    "    dos = np.zeros(len(eGrid))\n",
    "    for e in E:\n",
    "        dos += np.exp(-(e-eGrid)**2/2/sigma/sigma)\n",
    "    return dos/sigma/np.sqrt(2*np.pi)"
   ]
  },
  {
   "cell_type": "code",
   "execution_count": null,
   "metadata": {},
   "outputs": [],
   "source": [
    "eGrid = np.linspace(1.2*V0, 1, 1000)\n",
    "dos = DOS(energy, eGrid, 0.2)\n",
    "dos1D = 1/np.sqrt(0.5*(eGrid-energy[0]))\n",
    "plt.plot(eGrid, dos)\n",
    "plt.plot(eGrid, dos1D)\n",
    "plt.show()\n",
    "print(np.trapz(dos,eGrid))"
   ]
  },
  {
   "cell_type": "code",
   "execution_count": null,
   "metadata": {},
   "outputs": [],
   "source": []
  }
 ],
 "metadata": {
  "kernelspec": {
   "display_name": "Python 3",
   "language": "python",
   "name": "python3"
  },
  "language_info": {
   "codemirror_mode": {
    "name": "ipython",
    "version": 3
   },
   "file_extension": ".py",
   "mimetype": "text/x-python",
   "name": "python",
   "nbconvert_exporter": "python",
   "pygments_lexer": "ipython3",
   "version": "3.8.3"
  }
 },
 "nbformat": 4,
 "nbformat_minor": 4
}
