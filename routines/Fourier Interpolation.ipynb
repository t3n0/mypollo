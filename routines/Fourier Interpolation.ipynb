{
 "cells": [
  {
   "cell_type": "code",
   "execution_count": 1,
   "metadata": {},
   "outputs": [
    {
     "name": "stdout",
     "output_type": "stream",
     "text": [
      "Available matplotlib backends: ['tk', 'gtk', 'gtk3', 'wx', 'qt4', 'qt5', 'qt', 'osx', 'nbagg', 'notebook', 'agg', 'svg', 'pdf', 'ps', 'inline', 'ipympl', 'widget']\n"
     ]
    }
   ],
   "source": [
    "import numpy as np\n",
    "import matplotlib.pyplot as plt\n",
    "%matplotlib --list"
   ]
  },
  {
   "cell_type": "code",
   "execution_count": 2,
   "metadata": {},
   "outputs": [],
   "source": [
    "# can edit the following\n",
    "%matplotlib qt"
   ]
  },
  {
   "cell_type": "code",
   "execution_count": 3,
   "metadata": {},
   "outputs": [],
   "source": [
    "def fourierInterpolation(x, y, newx):\n",
    "    '''\n",
    "    Returns the Fourier interpolation of a function y = f(x).\n",
    "    Note! The function is assumed to be periodic.\n",
    "    This means, the list of x values must NOT include the last point:\n",
    "    e.g. use x = np.linspace(minx, maxx, lenx, endpoint = False) !!\n",
    "    \n",
    "    Parameters:\n",
    "    -----------\n",
    "        x (float):     1D-array, x domain\n",
    "        \n",
    "        y (float):     1D-array, values of function f(x)\n",
    "        \n",
    "        newx (float):  1D-array, new (finer) x domain over which\n",
    "                       compute the new values of the function\n",
    "    \n",
    "    Returns:\n",
    "    --------\n",
    "        newy (float):  values of function f(newx)\n",
    "    '''\n",
    "    lenx = len(x)\n",
    "    lennewx = len(newx)\n",
    "    lendiff = lennewx - lenx\n",
    "    if lenx % 2 == 0:\n",
    "        pads = (int(np.floor(lendiff/2)), int(np.ceil(lendiff/2)))\n",
    "    elif lenx % 2 == 1:\n",
    "        pads = (int(np.ceil(lendiff/2)), int(np.floor(lendiff/2)))\n",
    "    yFT     = np.fft.fft(y)\n",
    "    yFT_pad = np.pad(np.fft.fftshift(yFT), pads, 'constant', constant_values = (0.0, 0.0))\n",
    "    yFT_pad = np.fft.ifftshift(yFT_pad)\n",
    "    newy    = np.fft.ifft(yFT_pad).real\n",
    "    return lennewx / lenx * newy"
   ]
  },
  {
   "cell_type": "code",
   "execution_count": 4,
   "metadata": {},
   "outputs": [],
   "source": [
    "x    = np.linspace(0, 7, 123, endpoint=False)\n",
    "y1   = np.sin(2*np.pi*x) + 2*np.cos(2*np.pi*2*x) + 0.3*np.cos(2*np.pi*3*x)*np.sin(2*np.pi*3*x)\n",
    "y2   = np.exp(-(x-3)**2)\n",
    "\n",
    "newx = np.linspace(0, 7, 1000, endpoint=False)\n",
    "newy1 = fourierInterpolation(x, y1, newx)\n",
    "newy2 = fourierInterpolation(x, y2, newx)"
   ]
  },
  {
   "cell_type": "code",
   "execution_count": 5,
   "metadata": {},
   "outputs": [],
   "source": [
    "plt.plot(x,    y1,    label = 'original')\n",
    "plt.plot(newx, newy1, label = 'interpolated')\n",
    "plt.plot(x,    y2,    label = 'original')\n",
    "plt.plot(newx, newy2, label = 'interpolated')\n",
    "plt.legend()\n",
    "plt.show()"
   ]
  }
 ],
 "metadata": {
  "kernelspec": {
   "display_name": "Python 3",
   "language": "python",
   "name": "python3"
  },
  "language_info": {
   "codemirror_mode": {
    "name": "ipython",
    "version": 3
   },
   "file_extension": ".py",
   "mimetype": "text/x-python",
   "name": "python",
   "nbconvert_exporter": "python",
   "pygments_lexer": "ipython3",
   "version": "3.8.3"
  }
 },
 "nbformat": 4,
 "nbformat_minor": 4
}
